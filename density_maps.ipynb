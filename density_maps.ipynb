{
 "cells": [
  {
   "cell_type": "markdown",
   "metadata": {},
   "source": [
    "This is a 'clean code' version of the [draw_map](./draw_map.ipnb) notebook. The aim is to draw a map showing the number of inhabitants (2014 data) per one public transport (bus, tube or DLR) stop in each of the London wards, which could help answer the question how to improve London's public transport."
   ]
  },
  {
   "cell_type": "code",
   "execution_count": 1,
   "metadata": {
    "collapsed": true
   },
   "outputs": [],
   "source": [
    "import xmltodict\n",
    "from descartes import PolygonPatch\n",
    "from matplotlib.collections import PatchCollection\n",
    "from matplotlib.colors import Normalize\n",
    "from pysal.esda.mapclassify import Natural_Breaks as nb\n",
    "from shapely.geometry import Point, MultiPoint, Polygon, MultiPolygon \n",
    "from shapely.prepared import prep\n",
    "import pyproj\n",
    "import pandas as pd\n",
    "from mpl_toolkits.basemap import Basemap\n",
    "import matplotlib.pyplot as plt\n",
    "import numpy as np\n",
    "from __future__ import unicode_literals\n",
    "import seaborn as sns\n",
    "\n",
    "%matplotlib inline\n",
    "\n",
    "from pylab import rcParams\n",
    "rcParams['figure.figsize'] = (18,18)"
   ]
  },
  {
   "cell_type": "markdown",
   "metadata": {},
   "source": [
    "We will be using several data sets in the analysis:\n",
    "\n",
    "1. The map of the London wards (obrained from [here](http://data.london.gov.uk/dataset/statistical-gis-boundary-files-london)). To transform it into the WGS 84 reference system, we transofrm it: `$ ogr2ogr -t_srs EPSG:4326 London_Ward_ESPG4326.shp London_Ward_CityMerged.shp`.\n",
    "\n",
    "2. The list of London bus stops (from Transport for London (TfL) [website](https://api-portal.tfl.gov.uk/docs)).\n",
    "\n",
    "3. The list of London tube + DLR stops (also on the TfL website).\n",
    "\n",
    "4. The estimate data about the inhabitants per ward ([here](http://data.london.gov.uk/dataset/office-national-statistics-ons-population-estimates-borough)).\n",
    "\n",
    "First, we read in and prepare the data."
   ]
  },
  {
   "cell_type": "code",
   "execution_count": null,
   "metadata": {
    "collapsed": true
   },
   "outputs": [],
   "source": [
    "# bus stops\n",
    "busStops = pd.read_csv('data/bus-stops.csv')\n",
    "\n",
    "# remove the virtual stops that are only for testing\n",
    "busStops = busStops[busStops['Virtual_Bus_Stop'] == 0]\n",
    "\n",
    "# the locations for the bus stops are in awkward units, need to transform them\n",
    "def proj_transform(df):\n",
    "    # Transforms from British Ordnance survey coords into lon and lat\n",
    "    # credit: Alberto Negron \n",
    "    # http://altons.github.io/python/2012/12/01/converting-northing-and-easting-to-latitude-and-longitude/\n",
    "    bng = pyproj.Proj(init='epsg:27700')\n",
    "    wgs84 = pyproj.Proj(init='epsg:4326')\n",
    "    lon,lat = pyproj.transform(bng,wgs84,list(df['Location_Easting']), list(df['Location_Northing']))\n",
    "    \n",
    "    df['lat'] = lat\n",
    "    df['lon'] = lon\n",
    "    return df\n",
    "\n",
    "busStops = proj_transform(busStops)"
   ]
  },
  {
   "cell_type": "code",
   "execution_count": null,
   "metadata": {
    "collapsed": true
   },
   "outputs": [],
   "source": [
    "# tube + DLR stops\n",
    "with open('data/stations.kml','r') as fd:\n",
    "    doc = xmltodict.parse(fd.read())\n",
    "\n",
    "tubeNames = []\n",
    "tubeLats = []\n",
    "tubeLons = []\n",
    "    \n",
    "for pMark in doc['kml']['Document']['Placemark']:\n",
    "    #the actual data are hidden in 'Placemark's, all of which are OrderedDicts\n",
    "    tubeNames.append(dict(pMark)['name'])\n",
    "    #the Point key in pMark contains another OrderedDict with the coord string\n",
    "    c = [float(num) for num in dict(dict(pMark)['Point'])['coordinates'].split(',')]\n",
    "    tubeLons.append(c[0])\n",
    "    tubeLats.append(c[1])\n",
    "\n",
    "tubeStops = pd.DataFrame({'names': tubeNames, 'lon': tubeLons, 'lat': tubeLats})\n"
   ]
  }
 ],
 "metadata": {
  "kernelspec": {
   "display_name": "Python 2",
   "language": "python",
   "name": "python2"
  },
  "language_info": {
   "codemirror_mode": {
    "name": "ipython",
    "version": 2
   },
   "file_extension": ".py",
   "mimetype": "text/x-python",
   "name": "python",
   "nbconvert_exporter": "python",
   "pygments_lexer": "ipython2",
   "version": "2.7.11"
  }
 },
 "nbformat": 4,
 "nbformat_minor": 0
}
