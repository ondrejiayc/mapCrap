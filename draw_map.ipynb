{
 "cells": [
  {
   "cell_type": "code",
   "execution_count": 3,
   "metadata": {
    "collapsed": false
   },
   "outputs": [
    {
     "ename": "ImportError",
     "evalue": "/usr/lib/liblwgeom-2.1.8.so: undefined symbol: GEOSDelaunayTriangulation",
     "output_type": "error",
     "traceback": [
      "\u001b[1;31m---------------------------------------------------------------------------\u001b[0m",
      "\u001b[1;31mImportError\u001b[0m                               Traceback (most recent call last)",
      "\u001b[1;32m<ipython-input-3-ab5c57eef992>\u001b[0m in \u001b[0;36m<module>\u001b[1;34m()\u001b[0m\n\u001b[0;32m      5\u001b[0m \u001b[1;32mimport\u001b[0m \u001b[0mnumpy\u001b[0m \u001b[1;32mas\u001b[0m \u001b[0mnp\u001b[0m\u001b[1;33m\u001b[0m\u001b[0m\n\u001b[0;32m      6\u001b[0m \u001b[1;32mimport\u001b[0m \u001b[0mpandas\u001b[0m \u001b[1;32mas\u001b[0m \u001b[0mpd\u001b[0m\u001b[1;33m\u001b[0m\u001b[0m\n\u001b[1;32m----> 7\u001b[1;33m \u001b[1;32mimport\u001b[0m \u001b[0mfiona\u001b[0m\u001b[1;33m\u001b[0m\u001b[0m\n\u001b[0m\u001b[0;32m      8\u001b[0m \u001b[1;32mfrom\u001b[0m \u001b[0mmpl_toolkits\u001b[0m\u001b[1;33m.\u001b[0m\u001b[0mbasemap\u001b[0m \u001b[1;32mimport\u001b[0m \u001b[0mBasemap\u001b[0m\u001b[1;33m\u001b[0m\u001b[0m\n",
      "\u001b[1;32m/home/ondrej/soft/anaconda3/lib/python3.5/site-packages/fiona/__init__.py\u001b[0m in \u001b[0;36m<module>\u001b[1;34m()\u001b[0m\n\u001b[0;32m     70\u001b[0m \u001b[1;32mfrom\u001b[0m \u001b[0msix\u001b[0m \u001b[1;32mimport\u001b[0m \u001b[0mstring_types\u001b[0m\u001b[1;33m\u001b[0m\u001b[0m\n\u001b[0;32m     71\u001b[0m \u001b[1;33m\u001b[0m\u001b[0m\n\u001b[1;32m---> 72\u001b[1;33m \u001b[1;32mfrom\u001b[0m \u001b[0mfiona\u001b[0m\u001b[1;33m.\u001b[0m\u001b[0mcollection\u001b[0m \u001b[1;32mimport\u001b[0m \u001b[0mCollection\u001b[0m\u001b[1;33m,\u001b[0m \u001b[0mBytesCollection\u001b[0m\u001b[1;33m,\u001b[0m \u001b[0mvsi_path\u001b[0m\u001b[1;33m\u001b[0m\u001b[0m\n\u001b[0m\u001b[0;32m     73\u001b[0m \u001b[1;32mfrom\u001b[0m \u001b[0mfiona\u001b[0m\u001b[1;33m.\u001b[0m\u001b[0m_drivers\u001b[0m \u001b[1;32mimport\u001b[0m \u001b[0mdriver_count\u001b[0m\u001b[1;33m,\u001b[0m \u001b[0mGDALEnv\u001b[0m\u001b[1;33m,\u001b[0m \u001b[0msupported_drivers\u001b[0m\u001b[1;33m\u001b[0m\u001b[0m\n\u001b[0;32m     74\u001b[0m \u001b[1;32mfrom\u001b[0m \u001b[0mfiona\u001b[0m\u001b[1;33m.\u001b[0m\u001b[0modict\u001b[0m \u001b[1;32mimport\u001b[0m \u001b[0mOrderedDict\u001b[0m\u001b[1;33m\u001b[0m\u001b[0m\n",
      "\u001b[1;32m/home/ondrej/soft/anaconda3/lib/python3.5/site-packages/fiona/collection.py\u001b[0m in \u001b[0;36m<module>\u001b[1;34m()\u001b[0m\n\u001b[0;32m      5\u001b[0m \u001b[1;32mimport\u001b[0m \u001b[0msys\u001b[0m\u001b[1;33m\u001b[0m\u001b[0m\n\u001b[0;32m      6\u001b[0m \u001b[1;33m\u001b[0m\u001b[0m\n\u001b[1;32m----> 7\u001b[1;33m \u001b[1;32mfrom\u001b[0m \u001b[0mfiona\u001b[0m\u001b[1;33m.\u001b[0m\u001b[0mogrext\u001b[0m \u001b[1;32mimport\u001b[0m \u001b[0mIterator\u001b[0m\u001b[1;33m,\u001b[0m \u001b[0mItemsIterator\u001b[0m\u001b[1;33m,\u001b[0m \u001b[0mKeysIterator\u001b[0m\u001b[1;33m\u001b[0m\u001b[0m\n\u001b[0m\u001b[0;32m      8\u001b[0m \u001b[1;32mfrom\u001b[0m \u001b[0mfiona\u001b[0m\u001b[1;33m.\u001b[0m\u001b[0mogrext\u001b[0m \u001b[1;32mimport\u001b[0m \u001b[0mSession\u001b[0m\u001b[1;33m,\u001b[0m \u001b[0mWritingSession\u001b[0m\u001b[1;33m\u001b[0m\u001b[0m\n\u001b[0;32m      9\u001b[0m from fiona.ogrext import (\n",
      "\u001b[1;31mImportError\u001b[0m: /usr/lib/liblwgeom-2.1.8.so: undefined symbol: GEOSDelaunayTriangulation"
     ]
    }
   ],
   "source": [
    "#import sys\n",
    "#\n",
    "#sys.path.append('/home/ondrej/soft/anaconda2/bin')\n",
    "\n",
    "import numpy as np\n",
    "import pandas as pd\n",
    "import fiona\n",
    "from mpl_toolkits.basemap import Basemap"
   ]
  },
  {
   "cell_type": "markdown",
   "metadata": {},
   "source": [
    "There are several good resources for map drawing, for instace:\n",
    "\n",
    "The one from [sensitivecities](http://sensitivecities.com/so-youd-like-to-make-a-map-using-python-EN.html#.Vr2I43UrKkA \"quite dense in info!\")."
   ]
  },
  {
   "cell_type": "code",
   "execution_count": 3,
   "metadata": {
    "collapsed": false
   },
   "outputs": [
    {
     "data": {
      "text/plain": [
       "(-0.5177851, 51.2832439, 0.3385625, 51.6986909)"
      ]
     },
     "execution_count": 3,
     "metadata": {},
     "output_type": "execute_result"
    }
   ],
   "source": [
    "shp = fiona.open('data/roads.shp')\n",
    "shp.bounds"
   ]
  },
  {
   "cell_type": "code",
   "execution_count": 18,
   "metadata": {
    "collapsed": false
   },
   "outputs": [
    {
     "name": "stdout",
     "output_type": "stream",
     "text": [
      "\n",
      "/home/ondrej/soft/anaconda2/lib/python27.zip\n",
      "/home/ondrej/soft/anaconda2/lib/python2.7\n",
      "/home/ondrej/soft/anaconda2/lib/python2.7/plat-linux2\n",
      "/home/ondrej/soft/anaconda2/lib/python2.7/lib-tk\n",
      "/home/ondrej/soft/anaconda2/lib/python2.7/lib-old\n",
      "/home/ondrej/soft/anaconda2/lib/python2.7/lib-dynload\n",
      "/home/ondrej/soft/anaconda2/lib/python2.7/site-packages/Sphinx-1.3.1-py2.7.egg\n",
      "/home/ondrej/soft/anaconda2/lib/python2.7/site-packages/setuptools-19.6.2-py2.7.egg\n",
      "/home/ondrej/soft/anaconda2/lib/python2.7/site-packages/singledispatch-3.4.0.3-py2.7.egg\n",
      "/home/ondrej/soft/anaconda2/lib/python2.7/site-packages\n",
      "/home/ondrej/soft/anaconda2/lib/python2.7/site-packages/cryptography-1.0.2-py2.7-linux-x86_64.egg\n",
      "/home/ondrej/soft/anaconda2/lib/python2.7/site-packages/IPython/extensions\n",
      "/home/ondrej/.ipython\n",
      "/home/ondrej/soft/anaconda2/bin\n",
      "/home/ondrej/soft/anaconda2/bin\n"
     ]
    }
   ],
   "source": [
    "import sys\n",
    "\n",
    "for path in sys.path:\n",
    "    print(path)\n"
   ]
  },
  {
   "cell_type": "code",
   "execution_count": null,
   "metadata": {
    "collapsed": true
   },
   "outputs": [],
   "source": []
  }
 ],
 "metadata": {
  "kernelspec": {
   "display_name": "Python 3",
   "language": "python",
   "name": "python3"
  },
  "language_info": {
   "codemirror_mode": {
    "name": "ipython",
    "version": 3
   },
   "file_extension": ".py",
   "mimetype": "text/x-python",
   "name": "python",
   "nbconvert_exporter": "python",
   "pygments_lexer": "ipython3",
   "version": "3.5.1"
  }
 },
 "nbformat": 4,
 "nbformat_minor": 0
}
